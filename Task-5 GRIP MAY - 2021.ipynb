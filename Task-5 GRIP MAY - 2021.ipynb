{
 "cells": [
  {
   "cell_type": "markdown",
   "metadata": {},
   "source": [
    "# Graduate Rotational Internship Program May-2021\n"
   ]
  },
  {
   "cell_type": "markdown",
   "metadata": {},
   "source": [
    "# The Sparks Foundation"
   ]
  },
  {
   "cell_type": "markdown",
   "metadata": {},
   "source": [
    "# Data Science and Business Analytics Intern"
   ]
  },
  {
   "cell_type": "markdown",
   "metadata": {},
   "source": [
    "# Author : SAKETHRAM GATTU"
   ]
  },
  {
   "cell_type": "markdown",
   "metadata": {},
   "source": [
    "# Task-5 : Exploratory Data Analysis- Sports"
   ]
  },
  {
   "cell_type": "code",
   "execution_count": 1,
   "metadata": {},
   "outputs": [],
   "source": [
    "# Importing necessary libraries for Data Analysis!\n",
    "import numpy as np\n",
    "import pandas as pd\n",
    "import matplotlib.pyplot as plt\n",
    "import seaborn as sns"
   ]
  },
  {
   "cell_type": "code",
   "execution_count": 2,
   "metadata": {},
   "outputs": [],
   "source": [
    "#Reading the datasets using pandas library!\n",
    "df1=pd.read_csv('matches.csv')\n",
    "df2=pd.read_csv('deliveries.csv')"
   ]
  },
  {
   "cell_type": "code",
   "execution_count": 3,
   "metadata": {},
   "outputs": [
    {
     "data": {
      "text/html": [
       "<div>\n",
       "<style scoped>\n",
       "    .dataframe tbody tr th:only-of-type {\n",
       "        vertical-align: middle;\n",
       "    }\n",
       "\n",
       "    .dataframe tbody tr th {\n",
       "        vertical-align: top;\n",
       "    }\n",
       "\n",
       "    .dataframe thead th {\n",
       "        text-align: right;\n",
       "    }\n",
       "</style>\n",
       "<table border=\"1\" class=\"dataframe\">\n",
       "  <thead>\n",
       "    <tr style=\"text-align: right;\">\n",
       "      <th></th>\n",
       "      <th>id</th>\n",
       "      <th>season</th>\n",
       "      <th>city</th>\n",
       "      <th>date</th>\n",
       "      <th>team1</th>\n",
       "      <th>team2</th>\n",
       "      <th>toss_winner</th>\n",
       "      <th>toss_decision</th>\n",
       "      <th>result</th>\n",
       "      <th>dl_applied</th>\n",
       "      <th>winner</th>\n",
       "      <th>win_by_runs</th>\n",
       "      <th>win_by_wickets</th>\n",
       "      <th>player_of_match</th>\n",
       "      <th>venue</th>\n",
       "      <th>umpire1</th>\n",
       "      <th>umpire2</th>\n",
       "      <th>umpire3</th>\n",
       "    </tr>\n",
       "  </thead>\n",
       "  <tbody>\n",
       "    <tr>\n",
       "      <td>0</td>\n",
       "      <td>1</td>\n",
       "      <td>2017</td>\n",
       "      <td>Hyderabad</td>\n",
       "      <td>2017-04-05</td>\n",
       "      <td>Sunrisers Hyderabad</td>\n",
       "      <td>Royal Challengers Bangalore</td>\n",
       "      <td>Royal Challengers Bangalore</td>\n",
       "      <td>field</td>\n",
       "      <td>normal</td>\n",
       "      <td>0</td>\n",
       "      <td>Sunrisers Hyderabad</td>\n",
       "      <td>35</td>\n",
       "      <td>0</td>\n",
       "      <td>Yuvraj Singh</td>\n",
       "      <td>Rajiv Gandhi International Stadium, Uppal</td>\n",
       "      <td>AY Dandekar</td>\n",
       "      <td>NJ Llong</td>\n",
       "      <td>NaN</td>\n",
       "    </tr>\n",
       "    <tr>\n",
       "      <td>1</td>\n",
       "      <td>2</td>\n",
       "      <td>2017</td>\n",
       "      <td>Pune</td>\n",
       "      <td>2017-04-06</td>\n",
       "      <td>Mumbai Indians</td>\n",
       "      <td>Rising Pune Supergiant</td>\n",
       "      <td>Rising Pune Supergiant</td>\n",
       "      <td>field</td>\n",
       "      <td>normal</td>\n",
       "      <td>0</td>\n",
       "      <td>Rising Pune Supergiant</td>\n",
       "      <td>0</td>\n",
       "      <td>7</td>\n",
       "      <td>SPD Smith</td>\n",
       "      <td>Maharashtra Cricket Association Stadium</td>\n",
       "      <td>A Nand Kishore</td>\n",
       "      <td>S Ravi</td>\n",
       "      <td>NaN</td>\n",
       "    </tr>\n",
       "    <tr>\n",
       "      <td>2</td>\n",
       "      <td>3</td>\n",
       "      <td>2017</td>\n",
       "      <td>Rajkot</td>\n",
       "      <td>2017-04-07</td>\n",
       "      <td>Gujarat Lions</td>\n",
       "      <td>Kolkata Knight Riders</td>\n",
       "      <td>Kolkata Knight Riders</td>\n",
       "      <td>field</td>\n",
       "      <td>normal</td>\n",
       "      <td>0</td>\n",
       "      <td>Kolkata Knight Riders</td>\n",
       "      <td>0</td>\n",
       "      <td>10</td>\n",
       "      <td>CA Lynn</td>\n",
       "      <td>Saurashtra Cricket Association Stadium</td>\n",
       "      <td>Nitin Menon</td>\n",
       "      <td>CK Nandan</td>\n",
       "      <td>NaN</td>\n",
       "    </tr>\n",
       "    <tr>\n",
       "      <td>3</td>\n",
       "      <td>4</td>\n",
       "      <td>2017</td>\n",
       "      <td>Indore</td>\n",
       "      <td>2017-04-08</td>\n",
       "      <td>Rising Pune Supergiant</td>\n",
       "      <td>Kings XI Punjab</td>\n",
       "      <td>Kings XI Punjab</td>\n",
       "      <td>field</td>\n",
       "      <td>normal</td>\n",
       "      <td>0</td>\n",
       "      <td>Kings XI Punjab</td>\n",
       "      <td>0</td>\n",
       "      <td>6</td>\n",
       "      <td>GJ Maxwell</td>\n",
       "      <td>Holkar Cricket Stadium</td>\n",
       "      <td>AK Chaudhary</td>\n",
       "      <td>C Shamshuddin</td>\n",
       "      <td>NaN</td>\n",
       "    </tr>\n",
       "    <tr>\n",
       "      <td>4</td>\n",
       "      <td>5</td>\n",
       "      <td>2017</td>\n",
       "      <td>Bangalore</td>\n",
       "      <td>2017-04-08</td>\n",
       "      <td>Royal Challengers Bangalore</td>\n",
       "      <td>Delhi Daredevils</td>\n",
       "      <td>Royal Challengers Bangalore</td>\n",
       "      <td>bat</td>\n",
       "      <td>normal</td>\n",
       "      <td>0</td>\n",
       "      <td>Royal Challengers Bangalore</td>\n",
       "      <td>15</td>\n",
       "      <td>0</td>\n",
       "      <td>KM Jadhav</td>\n",
       "      <td>M Chinnaswamy Stadium</td>\n",
       "      <td>NaN</td>\n",
       "      <td>NaN</td>\n",
       "      <td>NaN</td>\n",
       "    </tr>\n",
       "  </tbody>\n",
       "</table>\n",
       "</div>"
      ],
      "text/plain": [
       "   id  season       city        date                        team1  \\\n",
       "0   1    2017  Hyderabad  2017-04-05          Sunrisers Hyderabad   \n",
       "1   2    2017       Pune  2017-04-06               Mumbai Indians   \n",
       "2   3    2017     Rajkot  2017-04-07                Gujarat Lions   \n",
       "3   4    2017     Indore  2017-04-08       Rising Pune Supergiant   \n",
       "4   5    2017  Bangalore  2017-04-08  Royal Challengers Bangalore   \n",
       "\n",
       "                         team2                  toss_winner toss_decision  \\\n",
       "0  Royal Challengers Bangalore  Royal Challengers Bangalore         field   \n",
       "1       Rising Pune Supergiant       Rising Pune Supergiant         field   \n",
       "2        Kolkata Knight Riders        Kolkata Knight Riders         field   \n",
       "3              Kings XI Punjab              Kings XI Punjab         field   \n",
       "4             Delhi Daredevils  Royal Challengers Bangalore           bat   \n",
       "\n",
       "   result  dl_applied                       winner  win_by_runs  \\\n",
       "0  normal           0          Sunrisers Hyderabad           35   \n",
       "1  normal           0       Rising Pune Supergiant            0   \n",
       "2  normal           0        Kolkata Knight Riders            0   \n",
       "3  normal           0              Kings XI Punjab            0   \n",
       "4  normal           0  Royal Challengers Bangalore           15   \n",
       "\n",
       "   win_by_wickets player_of_match                                      venue  \\\n",
       "0               0    Yuvraj Singh  Rajiv Gandhi International Stadium, Uppal   \n",
       "1               7       SPD Smith    Maharashtra Cricket Association Stadium   \n",
       "2              10         CA Lynn     Saurashtra Cricket Association Stadium   \n",
       "3               6      GJ Maxwell                     Holkar Cricket Stadium   \n",
       "4               0       KM Jadhav                      M Chinnaswamy Stadium   \n",
       "\n",
       "          umpire1        umpire2 umpire3  \n",
       "0     AY Dandekar       NJ Llong     NaN  \n",
       "1  A Nand Kishore         S Ravi     NaN  \n",
       "2     Nitin Menon      CK Nandan     NaN  \n",
       "3    AK Chaudhary  C Shamshuddin     NaN  \n",
       "4             NaN            NaN     NaN  "
      ]
     },
     "execution_count": 3,
     "metadata": {},
     "output_type": "execute_result"
    }
   ],
   "source": [
    "# Head function() allows you to display the first 5 rows of the given dataset!\n",
    "df1.head()"
   ]
  },
  {
   "cell_type": "code",
   "execution_count": 4,
   "metadata": {},
   "outputs": [
    {
     "data": {
      "text/html": [
       "<div>\n",
       "<style scoped>\n",
       "    .dataframe tbody tr th:only-of-type {\n",
       "        vertical-align: middle;\n",
       "    }\n",
       "\n",
       "    .dataframe tbody tr th {\n",
       "        vertical-align: top;\n",
       "    }\n",
       "\n",
       "    .dataframe thead th {\n",
       "        text-align: right;\n",
       "    }\n",
       "</style>\n",
       "<table border=\"1\" class=\"dataframe\">\n",
       "  <thead>\n",
       "    <tr style=\"text-align: right;\">\n",
       "      <th></th>\n",
       "      <th>match_id</th>\n",
       "      <th>inning</th>\n",
       "      <th>batting_team</th>\n",
       "      <th>bowling_team</th>\n",
       "      <th>over</th>\n",
       "      <th>ball</th>\n",
       "      <th>batsman</th>\n",
       "      <th>non_striker</th>\n",
       "      <th>bowler</th>\n",
       "      <th>is_super_over</th>\n",
       "      <th>...</th>\n",
       "      <th>bye_runs</th>\n",
       "      <th>legbye_runs</th>\n",
       "      <th>noball_runs</th>\n",
       "      <th>penalty_runs</th>\n",
       "      <th>batsman_runs</th>\n",
       "      <th>extra_runs</th>\n",
       "      <th>total_runs</th>\n",
       "      <th>player_dismissed</th>\n",
       "      <th>dismissal_kind</th>\n",
       "      <th>fielder</th>\n",
       "    </tr>\n",
       "  </thead>\n",
       "  <tbody>\n",
       "    <tr>\n",
       "      <td>0</td>\n",
       "      <td>1</td>\n",
       "      <td>1</td>\n",
       "      <td>Sunrisers Hyderabad</td>\n",
       "      <td>Royal Challengers Bangalore</td>\n",
       "      <td>1</td>\n",
       "      <td>1</td>\n",
       "      <td>DA Warner</td>\n",
       "      <td>S Dhawan</td>\n",
       "      <td>TS Mills</td>\n",
       "      <td>0</td>\n",
       "      <td>...</td>\n",
       "      <td>0</td>\n",
       "      <td>0</td>\n",
       "      <td>0</td>\n",
       "      <td>0</td>\n",
       "      <td>0</td>\n",
       "      <td>0</td>\n",
       "      <td>0</td>\n",
       "      <td>NaN</td>\n",
       "      <td>NaN</td>\n",
       "      <td>NaN</td>\n",
       "    </tr>\n",
       "    <tr>\n",
       "      <td>1</td>\n",
       "      <td>1</td>\n",
       "      <td>1</td>\n",
       "      <td>Sunrisers Hyderabad</td>\n",
       "      <td>Royal Challengers Bangalore</td>\n",
       "      <td>1</td>\n",
       "      <td>2</td>\n",
       "      <td>DA Warner</td>\n",
       "      <td>S Dhawan</td>\n",
       "      <td>TS Mills</td>\n",
       "      <td>0</td>\n",
       "      <td>...</td>\n",
       "      <td>0</td>\n",
       "      <td>0</td>\n",
       "      <td>0</td>\n",
       "      <td>0</td>\n",
       "      <td>0</td>\n",
       "      <td>0</td>\n",
       "      <td>0</td>\n",
       "      <td>NaN</td>\n",
       "      <td>NaN</td>\n",
       "      <td>NaN</td>\n",
       "    </tr>\n",
       "    <tr>\n",
       "      <td>2</td>\n",
       "      <td>1</td>\n",
       "      <td>1</td>\n",
       "      <td>Sunrisers Hyderabad</td>\n",
       "      <td>Royal Challengers Bangalore</td>\n",
       "      <td>1</td>\n",
       "      <td>3</td>\n",
       "      <td>DA Warner</td>\n",
       "      <td>S Dhawan</td>\n",
       "      <td>TS Mills</td>\n",
       "      <td>0</td>\n",
       "      <td>...</td>\n",
       "      <td>0</td>\n",
       "      <td>0</td>\n",
       "      <td>0</td>\n",
       "      <td>0</td>\n",
       "      <td>4</td>\n",
       "      <td>0</td>\n",
       "      <td>4</td>\n",
       "      <td>NaN</td>\n",
       "      <td>NaN</td>\n",
       "      <td>NaN</td>\n",
       "    </tr>\n",
       "    <tr>\n",
       "      <td>3</td>\n",
       "      <td>1</td>\n",
       "      <td>1</td>\n",
       "      <td>Sunrisers Hyderabad</td>\n",
       "      <td>Royal Challengers Bangalore</td>\n",
       "      <td>1</td>\n",
       "      <td>4</td>\n",
       "      <td>DA Warner</td>\n",
       "      <td>S Dhawan</td>\n",
       "      <td>TS Mills</td>\n",
       "      <td>0</td>\n",
       "      <td>...</td>\n",
       "      <td>0</td>\n",
       "      <td>0</td>\n",
       "      <td>0</td>\n",
       "      <td>0</td>\n",
       "      <td>0</td>\n",
       "      <td>0</td>\n",
       "      <td>0</td>\n",
       "      <td>NaN</td>\n",
       "      <td>NaN</td>\n",
       "      <td>NaN</td>\n",
       "    </tr>\n",
       "    <tr>\n",
       "      <td>4</td>\n",
       "      <td>1</td>\n",
       "      <td>1</td>\n",
       "      <td>Sunrisers Hyderabad</td>\n",
       "      <td>Royal Challengers Bangalore</td>\n",
       "      <td>1</td>\n",
       "      <td>5</td>\n",
       "      <td>DA Warner</td>\n",
       "      <td>S Dhawan</td>\n",
       "      <td>TS Mills</td>\n",
       "      <td>0</td>\n",
       "      <td>...</td>\n",
       "      <td>0</td>\n",
       "      <td>0</td>\n",
       "      <td>0</td>\n",
       "      <td>0</td>\n",
       "      <td>0</td>\n",
       "      <td>2</td>\n",
       "      <td>2</td>\n",
       "      <td>NaN</td>\n",
       "      <td>NaN</td>\n",
       "      <td>NaN</td>\n",
       "    </tr>\n",
       "  </tbody>\n",
       "</table>\n",
       "<p>5 rows × 21 columns</p>\n",
       "</div>"
      ],
      "text/plain": [
       "   match_id  inning         batting_team                 bowling_team  over  \\\n",
       "0         1       1  Sunrisers Hyderabad  Royal Challengers Bangalore     1   \n",
       "1         1       1  Sunrisers Hyderabad  Royal Challengers Bangalore     1   \n",
       "2         1       1  Sunrisers Hyderabad  Royal Challengers Bangalore     1   \n",
       "3         1       1  Sunrisers Hyderabad  Royal Challengers Bangalore     1   \n",
       "4         1       1  Sunrisers Hyderabad  Royal Challengers Bangalore     1   \n",
       "\n",
       "   ball    batsman non_striker    bowler  is_super_over  ...  bye_runs  \\\n",
       "0     1  DA Warner    S Dhawan  TS Mills              0  ...         0   \n",
       "1     2  DA Warner    S Dhawan  TS Mills              0  ...         0   \n",
       "2     3  DA Warner    S Dhawan  TS Mills              0  ...         0   \n",
       "3     4  DA Warner    S Dhawan  TS Mills              0  ...         0   \n",
       "4     5  DA Warner    S Dhawan  TS Mills              0  ...         0   \n",
       "\n",
       "   legbye_runs  noball_runs  penalty_runs  batsman_runs  extra_runs  \\\n",
       "0            0            0             0             0           0   \n",
       "1            0            0             0             0           0   \n",
       "2            0            0             0             4           0   \n",
       "3            0            0             0             0           0   \n",
       "4            0            0             0             0           2   \n",
       "\n",
       "   total_runs  player_dismissed dismissal_kind fielder  \n",
       "0           0               NaN            NaN     NaN  \n",
       "1           0               NaN            NaN     NaN  \n",
       "2           4               NaN            NaN     NaN  \n",
       "3           0               NaN            NaN     NaN  \n",
       "4           2               NaN            NaN     NaN  \n",
       "\n",
       "[5 rows x 21 columns]"
      ]
     },
     "execution_count": 4,
     "metadata": {},
     "output_type": "execute_result"
    }
   ],
   "source": [
    "df2.head()"
   ]
  },
  {
   "cell_type": "markdown",
   "metadata": {},
   "source": [
    "# DATA ANALYSIS"
   ]
  },
  {
   "cell_type": "code",
   "execution_count": 5,
   "metadata": {},
   "outputs": [
    {
     "data": {
      "text/plain": [
       "(756, 18)"
      ]
     },
     "execution_count": 5,
     "metadata": {},
     "output_type": "execute_result"
    }
   ],
   "source": [
    "# Shape explains you the shape of the Dataset i.e. Number of rows & columns!\n",
    "df1.shape"
   ]
  },
  {
   "cell_type": "code",
   "execution_count": 6,
   "metadata": {},
   "outputs": [
    {
     "data": {
      "text/plain": [
       "(179078, 21)"
      ]
     },
     "execution_count": 6,
     "metadata": {},
     "output_type": "execute_result"
    }
   ],
   "source": [
    "df2.shape"
   ]
  },
  {
   "cell_type": "code",
   "execution_count": 7,
   "metadata": {},
   "outputs": [
    {
     "data": {
      "text/plain": [
       "<bound method DataFrame.info of         id  season           city        date                        team1  \\\n",
       "0        1    2017      Hyderabad  2017-04-05          Sunrisers Hyderabad   \n",
       "1        2    2017           Pune  2017-04-06               Mumbai Indians   \n",
       "2        3    2017         Rajkot  2017-04-07                Gujarat Lions   \n",
       "3        4    2017         Indore  2017-04-08       Rising Pune Supergiant   \n",
       "4        5    2017      Bangalore  2017-04-08  Royal Challengers Bangalore   \n",
       "..     ...     ...            ...         ...                          ...   \n",
       "751  11347    2019         Mumbai    05/05/19        Kolkata Knight Riders   \n",
       "752  11412    2019        Chennai    07/05/19          Chennai Super Kings   \n",
       "753  11413    2019  Visakhapatnam    08/05/19          Sunrisers Hyderabad   \n",
       "754  11414    2019  Visakhapatnam    10/05/19               Delhi Capitals   \n",
       "755  11415    2019      Hyderabad    12/05/19               Mumbai Indians   \n",
       "\n",
       "                           team2                  toss_winner toss_decision  \\\n",
       "0    Royal Challengers Bangalore  Royal Challengers Bangalore         field   \n",
       "1         Rising Pune Supergiant       Rising Pune Supergiant         field   \n",
       "2          Kolkata Knight Riders        Kolkata Knight Riders         field   \n",
       "3                Kings XI Punjab              Kings XI Punjab         field   \n",
       "4               Delhi Daredevils  Royal Challengers Bangalore           bat   \n",
       "..                           ...                          ...           ...   \n",
       "751               Mumbai Indians               Mumbai Indians         field   \n",
       "752               Mumbai Indians          Chennai Super Kings           bat   \n",
       "753               Delhi Capitals               Delhi Capitals         field   \n",
       "754          Chennai Super Kings          Chennai Super Kings         field   \n",
       "755          Chennai Super Kings               Mumbai Indians           bat   \n",
       "\n",
       "     result  dl_applied                       winner  win_by_runs  \\\n",
       "0    normal           0          Sunrisers Hyderabad           35   \n",
       "1    normal           0       Rising Pune Supergiant            0   \n",
       "2    normal           0        Kolkata Knight Riders            0   \n",
       "3    normal           0              Kings XI Punjab            0   \n",
       "4    normal           0  Royal Challengers Bangalore           15   \n",
       "..      ...         ...                          ...          ...   \n",
       "751  normal           0               Mumbai Indians            0   \n",
       "752  normal           0               Mumbai Indians            0   \n",
       "753  normal           0               Delhi Capitals            0   \n",
       "754  normal           0          Chennai Super Kings            0   \n",
       "755  normal           0               Mumbai Indians            1   \n",
       "\n",
       "     win_by_wickets player_of_match  \\\n",
       "0                 0    Yuvraj Singh   \n",
       "1                 7       SPD Smith   \n",
       "2                10         CA Lynn   \n",
       "3                 6      GJ Maxwell   \n",
       "4                 0       KM Jadhav   \n",
       "..              ...             ...   \n",
       "751               9       HH Pandya   \n",
       "752               6        AS Yadav   \n",
       "753               2         RR Pant   \n",
       "754               6    F du Plessis   \n",
       "755               0       JJ Bumrah   \n",
       "\n",
       "                                         venue         umpire1  \\\n",
       "0    Rajiv Gandhi International Stadium, Uppal     AY Dandekar   \n",
       "1      Maharashtra Cricket Association Stadium  A Nand Kishore   \n",
       "2       Saurashtra Cricket Association Stadium     Nitin Menon   \n",
       "3                       Holkar Cricket Stadium    AK Chaudhary   \n",
       "4                        M Chinnaswamy Stadium             NaN   \n",
       "..                                         ...             ...   \n",
       "751                           Wankhede Stadium   Nanda Kishore   \n",
       "752                  M. A. Chidambaram Stadium     Nigel Llong   \n",
       "753                           ACA-VDCA Stadium             NaN   \n",
       "754                           ACA-VDCA Stadium   Sundaram Ravi   \n",
       "755         Rajiv Gandhi Intl. Cricket Stadium     Nitin Menon   \n",
       "\n",
       "            umpire2                  umpire3  \n",
       "0          NJ Llong                      NaN  \n",
       "1            S Ravi                      NaN  \n",
       "2         CK Nandan                      NaN  \n",
       "3     C Shamshuddin                      NaN  \n",
       "4               NaN                      NaN  \n",
       "..              ...                      ...  \n",
       "751        O Nandan                   S Ravi  \n",
       "752     Nitin Menon                Ian Gould  \n",
       "753             NaN                      NaN  \n",
       "754  Bruce Oxenford  Chettithody Shamshuddin  \n",
       "755       Ian Gould              Nigel Llong  \n",
       "\n",
       "[756 rows x 18 columns]>"
      ]
     },
     "execution_count": 7,
     "metadata": {},
     "output_type": "execute_result"
    }
   ],
   "source": [
    "# info function() exolains you the entire summary of the Dataset!\n",
    "df1.info"
   ]
  },
  {
   "cell_type": "code",
   "execution_count": 8,
   "metadata": {},
   "outputs": [
    {
     "data": {
      "text/plain": [
       "<bound method DataFrame.info of         match_id  inning         batting_team                 bowling_team  \\\n",
       "0              1       1  Sunrisers Hyderabad  Royal Challengers Bangalore   \n",
       "1              1       1  Sunrisers Hyderabad  Royal Challengers Bangalore   \n",
       "2              1       1  Sunrisers Hyderabad  Royal Challengers Bangalore   \n",
       "3              1       1  Sunrisers Hyderabad  Royal Challengers Bangalore   \n",
       "4              1       1  Sunrisers Hyderabad  Royal Challengers Bangalore   \n",
       "...          ...     ...                  ...                          ...   \n",
       "179073     11415       2  Chennai Super Kings               Mumbai Indians   \n",
       "179074     11415       2  Chennai Super Kings               Mumbai Indians   \n",
       "179075     11415       2  Chennai Super Kings               Mumbai Indians   \n",
       "179076     11415       2  Chennai Super Kings               Mumbai Indians   \n",
       "179077     11415       2  Chennai Super Kings               Mumbai Indians   \n",
       "\n",
       "        over  ball    batsman non_striker      bowler  is_super_over  ...  \\\n",
       "0          1     1  DA Warner    S Dhawan    TS Mills              0  ...   \n",
       "1          1     2  DA Warner    S Dhawan    TS Mills              0  ...   \n",
       "2          1     3  DA Warner    S Dhawan    TS Mills              0  ...   \n",
       "3          1     4  DA Warner    S Dhawan    TS Mills              0  ...   \n",
       "4          1     5  DA Warner    S Dhawan    TS Mills              0  ...   \n",
       "...      ...   ...        ...         ...         ...            ...  ...   \n",
       "179073    20     2  RA Jadeja   SR Watson  SL Malinga              0  ...   \n",
       "179074    20     3  SR Watson   RA Jadeja  SL Malinga              0  ...   \n",
       "179075    20     4  SR Watson   RA Jadeja  SL Malinga              0  ...   \n",
       "179076    20     5  SN Thakur   RA Jadeja  SL Malinga              0  ...   \n",
       "179077    20     6  SN Thakur   RA Jadeja  SL Malinga              0  ...   \n",
       "\n",
       "        bye_runs  legbye_runs  noball_runs  penalty_runs  batsman_runs  \\\n",
       "0              0            0            0             0             0   \n",
       "1              0            0            0             0             0   \n",
       "2              0            0            0             0             4   \n",
       "3              0            0            0             0             0   \n",
       "4              0            0            0             0             0   \n",
       "...          ...          ...          ...           ...           ...   \n",
       "179073         0            0            0             0             1   \n",
       "179074         0            0            0             0             2   \n",
       "179075         0            0            0             0             1   \n",
       "179076         0            0            0             0             2   \n",
       "179077         0            0            0             0             0   \n",
       "\n",
       "        extra_runs  total_runs  player_dismissed dismissal_kind    fielder  \n",
       "0                0           0               NaN            NaN        NaN  \n",
       "1                0           0               NaN            NaN        NaN  \n",
       "2                0           4               NaN            NaN        NaN  \n",
       "3                0           0               NaN            NaN        NaN  \n",
       "4                2           2               NaN            NaN        NaN  \n",
       "...            ...         ...               ...            ...        ...  \n",
       "179073           0           1               NaN            NaN        NaN  \n",
       "179074           0           2               NaN            NaN        NaN  \n",
       "179075           0           1         SR Watson        run out  KH Pandya  \n",
       "179076           0           2               NaN            NaN        NaN  \n",
       "179077           0           0         SN Thakur            lbw        NaN  \n",
       "\n",
       "[179078 rows x 21 columns]>"
      ]
     },
     "execution_count": 8,
     "metadata": {},
     "output_type": "execute_result"
    }
   ],
   "source": [
    "df2.info"
   ]
  },
  {
   "cell_type": "code",
   "execution_count": 9,
   "metadata": {},
   "outputs": [
    {
     "data": {
      "text/html": [
       "<div>\n",
       "<style scoped>\n",
       "    .dataframe tbody tr th:only-of-type {\n",
       "        vertical-align: middle;\n",
       "    }\n",
       "\n",
       "    .dataframe tbody tr th {\n",
       "        vertical-align: top;\n",
       "    }\n",
       "\n",
       "    .dataframe thead th {\n",
       "        text-align: right;\n",
       "    }\n",
       "</style>\n",
       "<table border=\"1\" class=\"dataframe\">\n",
       "  <thead>\n",
       "    <tr style=\"text-align: right;\">\n",
       "      <th></th>\n",
       "      <th>id</th>\n",
       "      <th>season</th>\n",
       "      <th>dl_applied</th>\n",
       "      <th>win_by_runs</th>\n",
       "      <th>win_by_wickets</th>\n",
       "    </tr>\n",
       "  </thead>\n",
       "  <tbody>\n",
       "    <tr>\n",
       "      <td>count</td>\n",
       "      <td>756.000000</td>\n",
       "      <td>756.000000</td>\n",
       "      <td>756.000000</td>\n",
       "      <td>756.000000</td>\n",
       "      <td>756.000000</td>\n",
       "    </tr>\n",
       "    <tr>\n",
       "      <td>mean</td>\n",
       "      <td>1792.178571</td>\n",
       "      <td>2013.444444</td>\n",
       "      <td>0.025132</td>\n",
       "      <td>13.283069</td>\n",
       "      <td>3.350529</td>\n",
       "    </tr>\n",
       "    <tr>\n",
       "      <td>std</td>\n",
       "      <td>3464.478148</td>\n",
       "      <td>3.366895</td>\n",
       "      <td>0.156630</td>\n",
       "      <td>23.471144</td>\n",
       "      <td>3.387963</td>\n",
       "    </tr>\n",
       "    <tr>\n",
       "      <td>min</td>\n",
       "      <td>1.000000</td>\n",
       "      <td>2008.000000</td>\n",
       "      <td>0.000000</td>\n",
       "      <td>0.000000</td>\n",
       "      <td>0.000000</td>\n",
       "    </tr>\n",
       "    <tr>\n",
       "      <td>25%</td>\n",
       "      <td>189.750000</td>\n",
       "      <td>2011.000000</td>\n",
       "      <td>0.000000</td>\n",
       "      <td>0.000000</td>\n",
       "      <td>0.000000</td>\n",
       "    </tr>\n",
       "    <tr>\n",
       "      <td>50%</td>\n",
       "      <td>378.500000</td>\n",
       "      <td>2013.000000</td>\n",
       "      <td>0.000000</td>\n",
       "      <td>0.000000</td>\n",
       "      <td>4.000000</td>\n",
       "    </tr>\n",
       "    <tr>\n",
       "      <td>75%</td>\n",
       "      <td>567.250000</td>\n",
       "      <td>2016.000000</td>\n",
       "      <td>0.000000</td>\n",
       "      <td>19.000000</td>\n",
       "      <td>6.000000</td>\n",
       "    </tr>\n",
       "    <tr>\n",
       "      <td>max</td>\n",
       "      <td>11415.000000</td>\n",
       "      <td>2019.000000</td>\n",
       "      <td>1.000000</td>\n",
       "      <td>146.000000</td>\n",
       "      <td>10.000000</td>\n",
       "    </tr>\n",
       "  </tbody>\n",
       "</table>\n",
       "</div>"
      ],
      "text/plain": [
       "                 id       season  dl_applied  win_by_runs  win_by_wickets\n",
       "count    756.000000   756.000000  756.000000   756.000000      756.000000\n",
       "mean    1792.178571  2013.444444    0.025132    13.283069        3.350529\n",
       "std     3464.478148     3.366895    0.156630    23.471144        3.387963\n",
       "min        1.000000  2008.000000    0.000000     0.000000        0.000000\n",
       "25%      189.750000  2011.000000    0.000000     0.000000        0.000000\n",
       "50%      378.500000  2013.000000    0.000000     0.000000        4.000000\n",
       "75%      567.250000  2016.000000    0.000000    19.000000        6.000000\n",
       "max    11415.000000  2019.000000    1.000000   146.000000       10.000000"
      ]
     },
     "execution_count": 9,
     "metadata": {},
     "output_type": "execute_result"
    }
   ],
   "source": [
    "# Describe function is used to view some basic statistical details like percentile, mean, std etc....\n",
    "df1.describe()"
   ]
  },
  {
   "cell_type": "code",
   "execution_count": 10,
   "metadata": {},
   "outputs": [
    {
     "data": {
      "text/html": [
       "<div>\n",
       "<style scoped>\n",
       "    .dataframe tbody tr th:only-of-type {\n",
       "        vertical-align: middle;\n",
       "    }\n",
       "\n",
       "    .dataframe tbody tr th {\n",
       "        vertical-align: top;\n",
       "    }\n",
       "\n",
       "    .dataframe thead th {\n",
       "        text-align: right;\n",
       "    }\n",
       "</style>\n",
       "<table border=\"1\" class=\"dataframe\">\n",
       "  <thead>\n",
       "    <tr style=\"text-align: right;\">\n",
       "      <th></th>\n",
       "      <th>match_id</th>\n",
       "      <th>inning</th>\n",
       "      <th>over</th>\n",
       "      <th>ball</th>\n",
       "      <th>is_super_over</th>\n",
       "      <th>wide_runs</th>\n",
       "      <th>bye_runs</th>\n",
       "      <th>legbye_runs</th>\n",
       "      <th>noball_runs</th>\n",
       "      <th>penalty_runs</th>\n",
       "      <th>batsman_runs</th>\n",
       "      <th>extra_runs</th>\n",
       "      <th>total_runs</th>\n",
       "    </tr>\n",
       "  </thead>\n",
       "  <tbody>\n",
       "    <tr>\n",
       "      <td>count</td>\n",
       "      <td>179078.000000</td>\n",
       "      <td>179078.000000</td>\n",
       "      <td>179078.000000</td>\n",
       "      <td>179078.000000</td>\n",
       "      <td>179078.000000</td>\n",
       "      <td>179078.000000</td>\n",
       "      <td>179078.000000</td>\n",
       "      <td>179078.000000</td>\n",
       "      <td>179078.000000</td>\n",
       "      <td>179078.000000</td>\n",
       "      <td>179078.000000</td>\n",
       "      <td>179078.000000</td>\n",
       "      <td>179078.000000</td>\n",
       "    </tr>\n",
       "    <tr>\n",
       "      <td>mean</td>\n",
       "      <td>1802.252957</td>\n",
       "      <td>1.482952</td>\n",
       "      <td>10.162488</td>\n",
       "      <td>3.615587</td>\n",
       "      <td>0.000452</td>\n",
       "      <td>0.036721</td>\n",
       "      <td>0.004936</td>\n",
       "      <td>0.021136</td>\n",
       "      <td>0.004183</td>\n",
       "      <td>0.000056</td>\n",
       "      <td>1.246864</td>\n",
       "      <td>0.067032</td>\n",
       "      <td>1.313897</td>\n",
       "    </tr>\n",
       "    <tr>\n",
       "      <td>std</td>\n",
       "      <td>3472.322805</td>\n",
       "      <td>0.502074</td>\n",
       "      <td>5.677684</td>\n",
       "      <td>1.806966</td>\n",
       "      <td>0.021263</td>\n",
       "      <td>0.251161</td>\n",
       "      <td>0.116480</td>\n",
       "      <td>0.194908</td>\n",
       "      <td>0.070492</td>\n",
       "      <td>0.016709</td>\n",
       "      <td>1.608270</td>\n",
       "      <td>0.342553</td>\n",
       "      <td>1.605422</td>\n",
       "    </tr>\n",
       "    <tr>\n",
       "      <td>min</td>\n",
       "      <td>1.000000</td>\n",
       "      <td>1.000000</td>\n",
       "      <td>1.000000</td>\n",
       "      <td>1.000000</td>\n",
       "      <td>0.000000</td>\n",
       "      <td>0.000000</td>\n",
       "      <td>0.000000</td>\n",
       "      <td>0.000000</td>\n",
       "      <td>0.000000</td>\n",
       "      <td>0.000000</td>\n",
       "      <td>0.000000</td>\n",
       "      <td>0.000000</td>\n",
       "      <td>0.000000</td>\n",
       "    </tr>\n",
       "    <tr>\n",
       "      <td>25%</td>\n",
       "      <td>190.000000</td>\n",
       "      <td>1.000000</td>\n",
       "      <td>5.000000</td>\n",
       "      <td>2.000000</td>\n",
       "      <td>0.000000</td>\n",
       "      <td>0.000000</td>\n",
       "      <td>0.000000</td>\n",
       "      <td>0.000000</td>\n",
       "      <td>0.000000</td>\n",
       "      <td>0.000000</td>\n",
       "      <td>0.000000</td>\n",
       "      <td>0.000000</td>\n",
       "      <td>0.000000</td>\n",
       "    </tr>\n",
       "    <tr>\n",
       "      <td>50%</td>\n",
       "      <td>379.000000</td>\n",
       "      <td>1.000000</td>\n",
       "      <td>10.000000</td>\n",
       "      <td>4.000000</td>\n",
       "      <td>0.000000</td>\n",
       "      <td>0.000000</td>\n",
       "      <td>0.000000</td>\n",
       "      <td>0.000000</td>\n",
       "      <td>0.000000</td>\n",
       "      <td>0.000000</td>\n",
       "      <td>1.000000</td>\n",
       "      <td>0.000000</td>\n",
       "      <td>1.000000</td>\n",
       "    </tr>\n",
       "    <tr>\n",
       "      <td>75%</td>\n",
       "      <td>567.000000</td>\n",
       "      <td>2.000000</td>\n",
       "      <td>15.000000</td>\n",
       "      <td>5.000000</td>\n",
       "      <td>0.000000</td>\n",
       "      <td>0.000000</td>\n",
       "      <td>0.000000</td>\n",
       "      <td>0.000000</td>\n",
       "      <td>0.000000</td>\n",
       "      <td>0.000000</td>\n",
       "      <td>1.000000</td>\n",
       "      <td>0.000000</td>\n",
       "      <td>1.000000</td>\n",
       "    </tr>\n",
       "    <tr>\n",
       "      <td>max</td>\n",
       "      <td>11415.000000</td>\n",
       "      <td>5.000000</td>\n",
       "      <td>20.000000</td>\n",
       "      <td>9.000000</td>\n",
       "      <td>1.000000</td>\n",
       "      <td>5.000000</td>\n",
       "      <td>4.000000</td>\n",
       "      <td>5.000000</td>\n",
       "      <td>5.000000</td>\n",
       "      <td>5.000000</td>\n",
       "      <td>7.000000</td>\n",
       "      <td>7.000000</td>\n",
       "      <td>10.000000</td>\n",
       "    </tr>\n",
       "  </tbody>\n",
       "</table>\n",
       "</div>"
      ],
      "text/plain": [
       "            match_id         inning           over           ball  \\\n",
       "count  179078.000000  179078.000000  179078.000000  179078.000000   \n",
       "mean     1802.252957       1.482952      10.162488       3.615587   \n",
       "std      3472.322805       0.502074       5.677684       1.806966   \n",
       "min         1.000000       1.000000       1.000000       1.000000   \n",
       "25%       190.000000       1.000000       5.000000       2.000000   \n",
       "50%       379.000000       1.000000      10.000000       4.000000   \n",
       "75%       567.000000       2.000000      15.000000       5.000000   \n",
       "max     11415.000000       5.000000      20.000000       9.000000   \n",
       "\n",
       "       is_super_over      wide_runs       bye_runs    legbye_runs  \\\n",
       "count  179078.000000  179078.000000  179078.000000  179078.000000   \n",
       "mean        0.000452       0.036721       0.004936       0.021136   \n",
       "std         0.021263       0.251161       0.116480       0.194908   \n",
       "min         0.000000       0.000000       0.000000       0.000000   \n",
       "25%         0.000000       0.000000       0.000000       0.000000   \n",
       "50%         0.000000       0.000000       0.000000       0.000000   \n",
       "75%         0.000000       0.000000       0.000000       0.000000   \n",
       "max         1.000000       5.000000       4.000000       5.000000   \n",
       "\n",
       "         noball_runs   penalty_runs   batsman_runs     extra_runs  \\\n",
       "count  179078.000000  179078.000000  179078.000000  179078.000000   \n",
       "mean        0.004183       0.000056       1.246864       0.067032   \n",
       "std         0.070492       0.016709       1.608270       0.342553   \n",
       "min         0.000000       0.000000       0.000000       0.000000   \n",
       "25%         0.000000       0.000000       0.000000       0.000000   \n",
       "50%         0.000000       0.000000       1.000000       0.000000   \n",
       "75%         0.000000       0.000000       1.000000       0.000000   \n",
       "max         5.000000       5.000000       7.000000       7.000000   \n",
       "\n",
       "          total_runs  \n",
       "count  179078.000000  \n",
       "mean        1.313897  \n",
       "std         1.605422  \n",
       "min         0.000000  \n",
       "25%         0.000000  \n",
       "50%         1.000000  \n",
       "75%         1.000000  \n",
       "max        10.000000  "
      ]
     },
     "execution_count": 10,
     "metadata": {},
     "output_type": "execute_result"
    }
   ],
   "source": [
    "df2.describe()"
   ]
  },
  {
   "cell_type": "code",
   "execution_count": 11,
   "metadata": {},
   "outputs": [
    {
     "data": {
      "text/plain": [
       "id                   0\n",
       "season               0\n",
       "city                 7\n",
       "date                 0\n",
       "team1                0\n",
       "team2                0\n",
       "toss_winner          0\n",
       "toss_decision        0\n",
       "result               0\n",
       "dl_applied           0\n",
       "winner               4\n",
       "win_by_runs          0\n",
       "win_by_wickets       0\n",
       "player_of_match      4\n",
       "venue                0\n",
       "umpire1              2\n",
       "umpire2              2\n",
       "umpire3            637\n",
       "dtype: int64"
      ]
     },
     "execution_count": 11,
     "metadata": {},
     "output_type": "execute_result"
    }
   ],
   "source": [
    "#This function enables us to caluclate the number of Nan values and add them in each column!\n",
    "df1.isnull().sum()"
   ]
  },
  {
   "cell_type": "code",
   "execution_count": 12,
   "metadata": {},
   "outputs": [
    {
     "data": {
      "text/plain": [
       "match_id                 0\n",
       "inning                   0\n",
       "batting_team             0\n",
       "bowling_team             0\n",
       "over                     0\n",
       "ball                     0\n",
       "batsman                  0\n",
       "non_striker              0\n",
       "bowler                   0\n",
       "is_super_over            0\n",
       "wide_runs                0\n",
       "bye_runs                 0\n",
       "legbye_runs              0\n",
       "noball_runs              0\n",
       "penalty_runs             0\n",
       "batsman_runs             0\n",
       "extra_runs               0\n",
       "total_runs               0\n",
       "player_dismissed    170244\n",
       "dismissal_kind      170244\n",
       "fielder             172630\n",
       "dtype: int64"
      ]
     },
     "execution_count": 12,
     "metadata": {},
     "output_type": "execute_result"
    }
   ],
   "source": [
    "df2.isnull().sum()"
   ]
  },
  {
   "cell_type": "code",
   "execution_count": 13,
   "metadata": {},
   "outputs": [
    {
     "data": {
      "text/plain": [
       "id                                                       2\n",
       "season                                                2017\n",
       "city                                                  Pune\n",
       "date                                            2017-04-06\n",
       "team1                                       Mumbai Indians\n",
       "team2                               Rising Pune Supergiant\n",
       "toss_winner                         Rising Pune Supergiant\n",
       "toss_decision                                        field\n",
       "result                                              normal\n",
       "dl_applied                                               0\n",
       "winner                              Rising Pune Supergiant\n",
       "win_by_runs                                              0\n",
       "win_by_wickets                                           7\n",
       "player_of_match                                  SPD Smith\n",
       "venue              Maharashtra Cricket Association Stadium\n",
       "umpire1                                     A Nand Kishore\n",
       "umpire2                                             S Ravi\n",
       "umpire3                                                NaN\n",
       "Name: 1, dtype: object"
      ]
     },
     "execution_count": 13,
     "metadata": {},
     "output_type": "execute_result"
    }
   ],
   "source": [
    "# Team won by Minimum Runs!\n",
    "df1.iloc[df1['win_by_runs'].idxmin()]"
   ]
  },
  {
   "cell_type": "code",
   "execution_count": 14,
   "metadata": {},
   "outputs": [
    {
     "data": {
      "text/plain": [
       "id                               44\n",
       "season                         2017\n",
       "city                          Delhi\n",
       "date                     2017-05-06\n",
       "team1                Mumbai Indians\n",
       "team2              Delhi Daredevils\n",
       "toss_winner        Delhi Daredevils\n",
       "toss_decision                 field\n",
       "result                       normal\n",
       "dl_applied                        0\n",
       "winner               Mumbai Indians\n",
       "win_by_runs                     146\n",
       "win_by_wickets                    0\n",
       "player_of_match         LMP Simmons\n",
       "venue              Feroz Shah Kotla\n",
       "umpire1                 Nitin Menon\n",
       "umpire2                   CK Nandan\n",
       "umpire3                         NaN\n",
       "Name: 43, dtype: object"
      ]
     },
     "execution_count": 14,
     "metadata": {},
     "output_type": "execute_result"
    }
   ],
   "source": [
    "# Team won by Maximum Runs!\n",
    "df1.iloc[df1['win_by_runs'].idxmax()]"
   ]
  },
  {
   "cell_type": "code",
   "execution_count": 15,
   "metadata": {},
   "outputs": [
    {
     "data": {
      "text/plain": [
       "id                                                         1\n",
       "season                                                  2017\n",
       "city                                               Hyderabad\n",
       "date                                              2017-04-05\n",
       "team1                                    Sunrisers Hyderabad\n",
       "team2                            Royal Challengers Bangalore\n",
       "toss_winner                      Royal Challengers Bangalore\n",
       "toss_decision                                          field\n",
       "result                                                normal\n",
       "dl_applied                                                 0\n",
       "winner                                   Sunrisers Hyderabad\n",
       "win_by_runs                                               35\n",
       "win_by_wickets                                             0\n",
       "player_of_match                                 Yuvraj Singh\n",
       "venue              Rajiv Gandhi International Stadium, Uppal\n",
       "umpire1                                          AY Dandekar\n",
       "umpire2                                             NJ Llong\n",
       "umpire3                                                  NaN\n",
       "Name: 0, dtype: object"
      ]
     },
     "execution_count": 15,
     "metadata": {},
     "output_type": "execute_result"
    }
   ],
   "source": [
    "# Team won by Minimum wickets!\n",
    "df1.iloc[df1['win_by_wickets'].idxmin()]"
   ]
  },
  {
   "cell_type": "code",
   "execution_count": 16,
   "metadata": {},
   "outputs": [
    {
     "data": {
      "text/plain": [
       "id                                                      3\n",
       "season                                               2017\n",
       "city                                               Rajkot\n",
       "date                                           2017-04-07\n",
       "team1                                       Gujarat Lions\n",
       "team2                               Kolkata Knight Riders\n",
       "toss_winner                         Kolkata Knight Riders\n",
       "toss_decision                                       field\n",
       "result                                             normal\n",
       "dl_applied                                              0\n",
       "winner                              Kolkata Knight Riders\n",
       "win_by_runs                                             0\n",
       "win_by_wickets                                         10\n",
       "player_of_match                                   CA Lynn\n",
       "venue              Saurashtra Cricket Association Stadium\n",
       "umpire1                                       Nitin Menon\n",
       "umpire2                                         CK Nandan\n",
       "umpire3                                               NaN\n",
       "Name: 2, dtype: object"
      ]
     },
     "execution_count": 16,
     "metadata": {},
     "output_type": "execute_result"
    }
   ],
   "source": [
    "# Team won by Maximum Wickets!\n",
    "df1.iloc[df1['win_by_wickets'].idxmax()]"
   ]
  },
  {
   "cell_type": "markdown",
   "metadata": {},
   "source": [
    "# DATA VISUALISATION"
   ]
  },
  {
   "cell_type": "code",
   "execution_count": 17,
   "metadata": {},
   "outputs": [
    {
     "data": {
      "image/png": "[encoded data removed]",
      "text/plain": [
       "<Figure size 576x576 with 1 Axes>"
      ]
     },
     "metadata": {
      "needs_background": "light"
     },
     "output_type": "display_data"
    }
   ],
   "source": [
    "# Matches played per each season!\n",
    "plt.figure(figsize=(8,8))\n",
    "sns.countplot(y=df1['season'],palette='rainbow')\n",
    "plt.title('No.of matches played per season')\n",
    "plt.xlabel('Matches')\n",
    "plt.ylabel('season')\n",
    "plt.show()"
   ]
  },
  {
   "cell_type": "code",
   "execution_count": 18,
   "metadata": {},
   "outputs": [
    {
     "data": {
      "image/png": "[encoded data removed]",
      "text/plain": [
       "<Figure size 576x576 with 1 Axes>"
      ]
     },
     "metadata": {
      "needs_background": "light"
     },
     "output_type": "display_data"
    }
   ],
   "source": [
    "# Matches played at each Venue!\n",
    "plt.figure(figsize=(8,8))\n",
    "sns.countplot(y=df1['venue'],palette='coolwarm')\n",
    "plt.xlabel('Matches')\n",
    "plt.ylabel('venue')\n",
    "plt.title('No.of matches played at venue')\n",
    "plt.show()"
   ]
  },
  {
   "cell_type": "code",
   "execution_count": 19,
   "metadata": {},
   "outputs": [
    {
     "data": {
      "image/png": "[encoded data removed]",
      "text/plain": [
       "<Figure size 576x576 with 1 Axes>"
      ]
     },
     "metadata": {
      "needs_background": "light"
     },
     "output_type": "display_data"
    }
   ],
   "source": [
    "# Matches played at Cities!\n",
    "plt.figure(figsize=(8,8))\n",
    "sns.countplot(y=df1['city'],palette='Dark2')\n",
    "plt.xlabel('Matches')\n",
    "plt.ylabel('city')\n",
    "plt.xlabel('Matches')\n",
    "plt.show()"
   ]
  },
  {
   "cell_type": "code",
   "execution_count": 20,
   "metadata": {},
   "outputs": [
    {
     "data": {
      "text/plain": [
       "CH Gayle          21\n",
       "AB de Villiers    20\n",
       "RG Sharma         17\n",
       "MS Dhoni          17\n",
       "DA Warner         17\n",
       "YK Pathan         16\n",
       "SR Watson         15\n",
       "SK Raina          14\n",
       "G Gambhir         13\n",
       "MEK Hussey        12\n",
       "AM Rahane         12\n",
       "V Kohli           12\n",
       "AD Russell        11\n",
       "A Mishra          11\n",
       "V Sehwag          11\n",
       "Name: player_of_match, dtype: int64"
      ]
     },
     "execution_count": 20,
     "metadata": {},
     "output_type": "execute_result"
    }
   ],
   "source": [
    "player_of_match=df1['player_of_match'].value_counts()[:15]\n",
    "player_of_match\n"
   ]
  },
  {
   "cell_type": "code",
   "execution_count": 21,
   "metadata": {},
   "outputs": [
    {
     "data": {
      "image/png": "[encoded data removed]",
      "text/plain": [
       "<Figure size 1080x576 with 1 Axes>"
      ]
     },
     "metadata": {
      "needs_background": "light"
     },
     "output_type": "display_data"
    }
   ],
   "source": [
    "# Player of the match Awards!\n",
    "plt.figure(figsize=(15,8))\n",
    "sns.barplot(x=player_of_match.index,y=player_of_match,palette='nipy_spectral')\n",
    "plt.xlabel('Player Name')\n",
    "plt.title('player of the match')\n",
    "plt.show()"
   ]
  },
  {
   "cell_type": "code",
   "execution_count": 22,
   "metadata": {},
   "outputs": [
    {
     "name": "stdout",
     "output_type": "stream",
     "text": [
      "                     toss_winner toss_decision                       winner  \\\n",
      "4    Royal Challengers Bangalore           bat  Royal Challengers Bangalore   \n",
      "7    Royal Challengers Bangalore           bat              Kings XI Punjab   \n",
      "14              Delhi Daredevils           bat             Delhi Daredevils   \n",
      "17              Delhi Daredevils           bat        Kolkata Knight Riders   \n",
      "20           Sunrisers Hyderabad           bat          Sunrisers Hyderabad   \n",
      "..                           ...           ...                          ...   \n",
      "741               Delhi Capitals           bat               Delhi Capitals   \n",
      "746               Mumbai Indians           bat               Mumbai Indians   \n",
      "748             Rajasthan Royals           bat               Delhi Capitals   \n",
      "752          Chennai Super Kings           bat               Mumbai Indians   \n",
      "755               Mumbai Indians           bat               Mumbai Indians   \n",
      "\n",
      "    result  \n",
      "4      won  \n",
      "7     lose  \n",
      "14     won  \n",
      "17    lose  \n",
      "20     won  \n",
      "..     ...  \n",
      "741    won  \n",
      "746    won  \n",
      "748   lose  \n",
      "752   lose  \n",
      "755    won  \n",
      "\n",
      "[293 rows x 4 columns]\n"
     ]
    },
    {
     "data": {
      "text/plain": [
       "<matplotlib.axes._subplots.AxesSubplot at 0x256d6353a48>"
      ]
     },
     "execution_count": 22,
     "metadata": {},
     "output_type": "execute_result"
    },
    {
     "data": {
      "image/png": "[encoded data removed]",
      "text/plain": [
       "<Figure size 1080x720 with 1 Axes>"
      ]
     },
     "metadata": {
      "needs_background": "light"
     },
     "output_type": "display_data"
    }
   ],
   "source": [
    "# Team who batted first won the match!\n",
    "plt.figure(figsize=(15,10))\n",
    "bat_first=pd.DataFrame(df1[['toss_winner','toss_decision','winner']])\n",
    "bat_first=bat_first.groupby('toss_decision').get_group('bat')\n",
    "bat_first['result']=np.where(bat_first['toss_winner']==bat_first['winner'],'won','lose')\n",
    "print(bat_first)\n",
    "sns.countplot(bat_first['result']=='won',hue=bat_first['toss_winner'],palette='gist_earth')          "
   ]
  },
  {
   "cell_type": "code",
   "execution_count": 23,
   "metadata": {},
   "outputs": [
    {
     "data": {
      "image/png": "[encoded data removed]",
      "text/plain": [
       "<Figure size 1080x576 with 1 Axes>"
      ]
     },
     "metadata": {
      "needs_background": "light"
     },
     "output_type": "display_data"
    }
   ],
   "source": [
    "# Team who won the toss and match as well!\n",
    "plt.figure(figsize=(15,8))\n",
    "toss_winner_winner=(df1[df1['toss_winner']==df1['winner']])\n",
    "team_toss=toss_winner_winner['winner'].value_counts()\n",
    "sns.barplot(x=team_toss.index,y=team_toss,palette='copper')\n",
    "plt.xlabel('Team')\n",
    "plt.ylabel('Number of wins')\n",
    "plt.title('Teams who won the toss and the match ')\n",
    "plt.xticks(rotation=90)\n",
    "plt.show()"
   ]
  },
  {
   "cell_type": "code",
   "execution_count": 24,
   "metadata": {},
   "outputs": [
    {
     "data": {
      "text/html": [
       "<div>\n",
       "<style scoped>\n",
       "    .dataframe tbody tr th:only-of-type {\n",
       "        vertical-align: middle;\n",
       "    }\n",
       "\n",
       "    .dataframe tbody tr th {\n",
       "        vertical-align: top;\n",
       "    }\n",
       "\n",
       "    .dataframe thead th {\n",
       "        text-align: right;\n",
       "    }\n",
       "</style>\n",
       "<table border=\"1\" class=\"dataframe\">\n",
       "  <thead>\n",
       "    <tr style=\"text-align: right;\">\n",
       "      <th></th>\n",
       "      <th>season</th>\n",
       "      <th>toss_winner</th>\n",
       "      <th>toss_decision</th>\n",
       "      <th>winner</th>\n",
       "      <th>player_of_match</th>\n",
       "    </tr>\n",
       "  </thead>\n",
       "  <tbody>\n",
       "    <tr>\n",
       "      <td>1</td>\n",
       "      <td>2008</td>\n",
       "      <td>Royal Challengers Bangalore</td>\n",
       "      <td>field</td>\n",
       "      <td>Kolkata Knight Riders</td>\n",
       "      <td>BB McCullum</td>\n",
       "    </tr>\n",
       "    <tr>\n",
       "      <td>2</td>\n",
       "      <td>2009</td>\n",
       "      <td>Chennai Super Kings</td>\n",
       "      <td>field</td>\n",
       "      <td>Mumbai Indians</td>\n",
       "      <td>SR Tendulkar</td>\n",
       "    </tr>\n",
       "    <tr>\n",
       "      <td>3</td>\n",
       "      <td>2010</td>\n",
       "      <td>Deccan Chargers</td>\n",
       "      <td>field</td>\n",
       "      <td>Kolkata Knight Riders</td>\n",
       "      <td>AD Mathews</td>\n",
       "    </tr>\n",
       "    <tr>\n",
       "      <td>4</td>\n",
       "      <td>2011</td>\n",
       "      <td>Chennai Super Kings</td>\n",
       "      <td>bat</td>\n",
       "      <td>Chennai Super Kings</td>\n",
       "      <td>S Anirudha</td>\n",
       "    </tr>\n",
       "    <tr>\n",
       "      <td>5</td>\n",
       "      <td>2012</td>\n",
       "      <td>Mumbai Indians</td>\n",
       "      <td>field</td>\n",
       "      <td>Mumbai Indians</td>\n",
       "      <td>RE Levi</td>\n",
       "    </tr>\n",
       "    <tr>\n",
       "      <td>6</td>\n",
       "      <td>2013</td>\n",
       "      <td>Kolkata Knight Riders</td>\n",
       "      <td>field</td>\n",
       "      <td>Kolkata Knight Riders</td>\n",
       "      <td>SP Narine</td>\n",
       "    </tr>\n",
       "    <tr>\n",
       "      <td>7</td>\n",
       "      <td>2014</td>\n",
       "      <td>Kolkata Knight Riders</td>\n",
       "      <td>bat</td>\n",
       "      <td>Kolkata Knight Riders</td>\n",
       "      <td>JH Kallis</td>\n",
       "    </tr>\n",
       "    <tr>\n",
       "      <td>8</td>\n",
       "      <td>2015</td>\n",
       "      <td>Kolkata Knight Riders</td>\n",
       "      <td>field</td>\n",
       "      <td>Kolkata Knight Riders</td>\n",
       "      <td>M Morkel</td>\n",
       "    </tr>\n",
       "    <tr>\n",
       "      <td>9</td>\n",
       "      <td>2016</td>\n",
       "      <td>Mumbai Indians</td>\n",
       "      <td>bat</td>\n",
       "      <td>Rising Pune Supergiants</td>\n",
       "      <td>AM Rahane</td>\n",
       "    </tr>\n",
       "    <tr>\n",
       "      <td>0</td>\n",
       "      <td>2017</td>\n",
       "      <td>Royal Challengers Bangalore</td>\n",
       "      <td>field</td>\n",
       "      <td>Sunrisers Hyderabad</td>\n",
       "      <td>Yuvraj Singh</td>\n",
       "    </tr>\n",
       "    <tr>\n",
       "      <td>10</td>\n",
       "      <td>2018</td>\n",
       "      <td>Chennai Super Kings</td>\n",
       "      <td>field</td>\n",
       "      <td>Chennai Super Kings</td>\n",
       "      <td>DJ Bravo</td>\n",
       "    </tr>\n",
       "    <tr>\n",
       "      <td>11</td>\n",
       "      <td>2019</td>\n",
       "      <td>Chennai Super Kings</td>\n",
       "      <td>field</td>\n",
       "      <td>Chennai Super Kings</td>\n",
       "      <td>Harbhajan Singh</td>\n",
       "    </tr>\n",
       "  </tbody>\n",
       "</table>\n",
       "</div>"
      ],
      "text/plain": [
       "    season                  toss_winner toss_decision  \\\n",
       "1     2008  Royal Challengers Bangalore         field   \n",
       "2     2009          Chennai Super Kings         field   \n",
       "3     2010              Deccan Chargers         field   \n",
       "4     2011          Chennai Super Kings           bat   \n",
       "5     2012               Mumbai Indians         field   \n",
       "6     2013        Kolkata Knight Riders         field   \n",
       "7     2014        Kolkata Knight Riders           bat   \n",
       "8     2015        Kolkata Knight Riders         field   \n",
       "9     2016               Mumbai Indians           bat   \n",
       "0     2017  Royal Challengers Bangalore         field   \n",
       "10    2018          Chennai Super Kings         field   \n",
       "11    2019          Chennai Super Kings         field   \n",
       "\n",
       "                     winner  player_of_match  \n",
       "1     Kolkata Knight Riders      BB McCullum  \n",
       "2            Mumbai Indians     SR Tendulkar  \n",
       "3     Kolkata Knight Riders       AD Mathews  \n",
       "4       Chennai Super Kings       S Anirudha  \n",
       "5            Mumbai Indians          RE Levi  \n",
       "6     Kolkata Knight Riders        SP Narine  \n",
       "7     Kolkata Knight Riders        JH Kallis  \n",
       "8     Kolkata Knight Riders         M Morkel  \n",
       "9   Rising Pune Supergiants        AM Rahane  \n",
       "0       Sunrisers Hyderabad     Yuvraj Singh  \n",
       "10      Chennai Super Kings         DJ Bravo  \n",
       "11      Chennai Super Kings  Harbhajan Singh  "
      ]
     },
     "execution_count": 24,
     "metadata": {},
     "output_type": "execute_result"
    }
   ],
   "source": [
    "# Player of the very first match in each season!\n",
    "season_winner=df1.drop_duplicates(subset=['season'],keep='first')\n",
    "season_winner[['season','toss_winner','toss_decision','winner','player_of_match']].reset_index(drop=True).sort_values('season')"
   ]
  },
  {
   "cell_type": "code",
   "execution_count": 25,
   "metadata": {},
   "outputs": [
    {
     "name": "stdout",
     "output_type": "stream",
     "text": [
      "total matches where team won the toss and match as well: 393\n"
     ]
    }
   ],
   "source": [
    "print('total matches where team won the toss and match as well:',sum(df1['toss_winner']==df1['winner']))"
   ]
  },
  {
   "cell_type": "code",
   "execution_count": 26,
   "metadata": {},
   "outputs": [
    {
     "name": "stdout",
     "output_type": "stream",
     "text": [
      "total matches where team won the toss but didn't win the match : 363\n"
     ]
    }
   ],
   "source": [
    "print(\"total matches where team won the toss but didn't win the match :\",sum(df1['toss_winner']!=df1['winner']))"
   ]
  },
  {
   "cell_type": "markdown",
   "metadata": {},
   "source": [
    "# It is very clear from the above two lines of code that it doesn't make any sense that team who wons the toss would win the match and team who doesn't won the toss would lose the match. It totally depends on the Induvidual  team's performance!"
   ]
  },
  {
   "cell_type": "code",
   "execution_count": 27,
   "metadata": {},
   "outputs": [
    {
     "data": {
      "text/html": [
       "<div>\n",
       "<style scoped>\n",
       "    .dataframe tbody tr th:only-of-type {\n",
       "        vertical-align: middle;\n",
       "    }\n",
       "\n",
       "    .dataframe tbody tr th {\n",
       "        vertical-align: top;\n",
       "    }\n",
       "\n",
       "    .dataframe thead th {\n",
       "        text-align: right;\n",
       "    }\n",
       "</style>\n",
       "<table border=\"1\" class=\"dataframe\">\n",
       "  <thead>\n",
       "    <tr style=\"text-align: right;\">\n",
       "      <th></th>\n",
       "      <th>match_id</th>\n",
       "      <th>inning</th>\n",
       "      <th>batting_team</th>\n",
       "      <th>bowling_team</th>\n",
       "      <th>over</th>\n",
       "      <th>ball</th>\n",
       "      <th>batsman</th>\n",
       "      <th>non_striker</th>\n",
       "      <th>bowler</th>\n",
       "      <th>is_super_over</th>\n",
       "      <th>...</th>\n",
       "      <th>bye_runs</th>\n",
       "      <th>legbye_runs</th>\n",
       "      <th>noball_runs</th>\n",
       "      <th>penalty_runs</th>\n",
       "      <th>batsman_runs</th>\n",
       "      <th>extra_runs</th>\n",
       "      <th>total_runs</th>\n",
       "      <th>player_dismissed</th>\n",
       "      <th>dismissal_kind</th>\n",
       "      <th>fielder</th>\n",
       "    </tr>\n",
       "  </thead>\n",
       "  <tbody>\n",
       "    <tr>\n",
       "      <td>0</td>\n",
       "      <td>1</td>\n",
       "      <td>1</td>\n",
       "      <td>Sunrisers Hyderabad</td>\n",
       "      <td>Royal Challengers Bangalore</td>\n",
       "      <td>1</td>\n",
       "      <td>1</td>\n",
       "      <td>DA Warner</td>\n",
       "      <td>S Dhawan</td>\n",
       "      <td>TS Mills</td>\n",
       "      <td>0</td>\n",
       "      <td>...</td>\n",
       "      <td>0</td>\n",
       "      <td>0</td>\n",
       "      <td>0</td>\n",
       "      <td>0</td>\n",
       "      <td>0</td>\n",
       "      <td>0</td>\n",
       "      <td>0</td>\n",
       "      <td>NaN</td>\n",
       "      <td>NaN</td>\n",
       "      <td>NaN</td>\n",
       "    </tr>\n",
       "    <tr>\n",
       "      <td>1</td>\n",
       "      <td>1</td>\n",
       "      <td>1</td>\n",
       "      <td>Sunrisers Hyderabad</td>\n",
       "      <td>Royal Challengers Bangalore</td>\n",
       "      <td>1</td>\n",
       "      <td>2</td>\n",
       "      <td>DA Warner</td>\n",
       "      <td>S Dhawan</td>\n",
       "      <td>TS Mills</td>\n",
       "      <td>0</td>\n",
       "      <td>...</td>\n",
       "      <td>0</td>\n",
       "      <td>0</td>\n",
       "      <td>0</td>\n",
       "      <td>0</td>\n",
       "      <td>0</td>\n",
       "      <td>0</td>\n",
       "      <td>0</td>\n",
       "      <td>NaN</td>\n",
       "      <td>NaN</td>\n",
       "      <td>NaN</td>\n",
       "    </tr>\n",
       "    <tr>\n",
       "      <td>2</td>\n",
       "      <td>1</td>\n",
       "      <td>1</td>\n",
       "      <td>Sunrisers Hyderabad</td>\n",
       "      <td>Royal Challengers Bangalore</td>\n",
       "      <td>1</td>\n",
       "      <td>3</td>\n",
       "      <td>DA Warner</td>\n",
       "      <td>S Dhawan</td>\n",
       "      <td>TS Mills</td>\n",
       "      <td>0</td>\n",
       "      <td>...</td>\n",
       "      <td>0</td>\n",
       "      <td>0</td>\n",
       "      <td>0</td>\n",
       "      <td>0</td>\n",
       "      <td>4</td>\n",
       "      <td>0</td>\n",
       "      <td>4</td>\n",
       "      <td>NaN</td>\n",
       "      <td>NaN</td>\n",
       "      <td>NaN</td>\n",
       "    </tr>\n",
       "    <tr>\n",
       "      <td>3</td>\n",
       "      <td>1</td>\n",
       "      <td>1</td>\n",
       "      <td>Sunrisers Hyderabad</td>\n",
       "      <td>Royal Challengers Bangalore</td>\n",
       "      <td>1</td>\n",
       "      <td>4</td>\n",
       "      <td>DA Warner</td>\n",
       "      <td>S Dhawan</td>\n",
       "      <td>TS Mills</td>\n",
       "      <td>0</td>\n",
       "      <td>...</td>\n",
       "      <td>0</td>\n",
       "      <td>0</td>\n",
       "      <td>0</td>\n",
       "      <td>0</td>\n",
       "      <td>0</td>\n",
       "      <td>0</td>\n",
       "      <td>0</td>\n",
       "      <td>NaN</td>\n",
       "      <td>NaN</td>\n",
       "      <td>NaN</td>\n",
       "    </tr>\n",
       "    <tr>\n",
       "      <td>4</td>\n",
       "      <td>1</td>\n",
       "      <td>1</td>\n",
       "      <td>Sunrisers Hyderabad</td>\n",
       "      <td>Royal Challengers Bangalore</td>\n",
       "      <td>1</td>\n",
       "      <td>5</td>\n",
       "      <td>DA Warner</td>\n",
       "      <td>S Dhawan</td>\n",
       "      <td>TS Mills</td>\n",
       "      <td>0</td>\n",
       "      <td>...</td>\n",
       "      <td>0</td>\n",
       "      <td>0</td>\n",
       "      <td>0</td>\n",
       "      <td>0</td>\n",
       "      <td>0</td>\n",
       "      <td>2</td>\n",
       "      <td>2</td>\n",
       "      <td>NaN</td>\n",
       "      <td>NaN</td>\n",
       "      <td>NaN</td>\n",
       "    </tr>\n",
       "    <tr>\n",
       "      <td>...</td>\n",
       "      <td>...</td>\n",
       "      <td>...</td>\n",
       "      <td>...</td>\n",
       "      <td>...</td>\n",
       "      <td>...</td>\n",
       "      <td>...</td>\n",
       "      <td>...</td>\n",
       "      <td>...</td>\n",
       "      <td>...</td>\n",
       "      <td>...</td>\n",
       "      <td>...</td>\n",
       "      <td>...</td>\n",
       "      <td>...</td>\n",
       "      <td>...</td>\n",
       "      <td>...</td>\n",
       "      <td>...</td>\n",
       "      <td>...</td>\n",
       "      <td>...</td>\n",
       "      <td>...</td>\n",
       "      <td>...</td>\n",
       "      <td>...</td>\n",
       "    </tr>\n",
       "    <tr>\n",
       "      <td>179073</td>\n",
       "      <td>11415</td>\n",
       "      <td>2</td>\n",
       "      <td>Chennai Super Kings</td>\n",
       "      <td>Mumbai Indians</td>\n",
       "      <td>20</td>\n",
       "      <td>2</td>\n",
       "      <td>RA Jadeja</td>\n",
       "      <td>SR Watson</td>\n",
       "      <td>SL Malinga</td>\n",
       "      <td>0</td>\n",
       "      <td>...</td>\n",
       "      <td>0</td>\n",
       "      <td>0</td>\n",
       "      <td>0</td>\n",
       "      <td>0</td>\n",
       "      <td>1</td>\n",
       "      <td>0</td>\n",
       "      <td>1</td>\n",
       "      <td>NaN</td>\n",
       "      <td>NaN</td>\n",
       "      <td>NaN</td>\n",
       "    </tr>\n",
       "    <tr>\n",
       "      <td>179074</td>\n",
       "      <td>11415</td>\n",
       "      <td>2</td>\n",
       "      <td>Chennai Super Kings</td>\n",
       "      <td>Mumbai Indians</td>\n",
       "      <td>20</td>\n",
       "      <td>3</td>\n",
       "      <td>SR Watson</td>\n",
       "      <td>RA Jadeja</td>\n",
       "      <td>SL Malinga</td>\n",
       "      <td>0</td>\n",
       "      <td>...</td>\n",
       "      <td>0</td>\n",
       "      <td>0</td>\n",
       "      <td>0</td>\n",
       "      <td>0</td>\n",
       "      <td>2</td>\n",
       "      <td>0</td>\n",
       "      <td>2</td>\n",
       "      <td>NaN</td>\n",
       "      <td>NaN</td>\n",
       "      <td>NaN</td>\n",
       "    </tr>\n",
       "    <tr>\n",
       "      <td>179075</td>\n",
       "      <td>11415</td>\n",
       "      <td>2</td>\n",
       "      <td>Chennai Super Kings</td>\n",
       "      <td>Mumbai Indians</td>\n",
       "      <td>20</td>\n",
       "      <td>4</td>\n",
       "      <td>SR Watson</td>\n",
       "      <td>RA Jadeja</td>\n",
       "      <td>SL Malinga</td>\n",
       "      <td>0</td>\n",
       "      <td>...</td>\n",
       "      <td>0</td>\n",
       "      <td>0</td>\n",
       "      <td>0</td>\n",
       "      <td>0</td>\n",
       "      <td>1</td>\n",
       "      <td>0</td>\n",
       "      <td>1</td>\n",
       "      <td>SR Watson</td>\n",
       "      <td>run out</td>\n",
       "      <td>KH Pandya</td>\n",
       "    </tr>\n",
       "    <tr>\n",
       "      <td>179076</td>\n",
       "      <td>11415</td>\n",
       "      <td>2</td>\n",
       "      <td>Chennai Super Kings</td>\n",
       "      <td>Mumbai Indians</td>\n",
       "      <td>20</td>\n",
       "      <td>5</td>\n",
       "      <td>SN Thakur</td>\n",
       "      <td>RA Jadeja</td>\n",
       "      <td>SL Malinga</td>\n",
       "      <td>0</td>\n",
       "      <td>...</td>\n",
       "      <td>0</td>\n",
       "      <td>0</td>\n",
       "      <td>0</td>\n",
       "      <td>0</td>\n",
       "      <td>2</td>\n",
       "      <td>0</td>\n",
       "      <td>2</td>\n",
       "      <td>NaN</td>\n",
       "      <td>NaN</td>\n",
       "      <td>NaN</td>\n",
       "    </tr>\n",
       "    <tr>\n",
       "      <td>179077</td>\n",
       "      <td>11415</td>\n",
       "      <td>2</td>\n",
       "      <td>Chennai Super Kings</td>\n",
       "      <td>Mumbai Indians</td>\n",
       "      <td>20</td>\n",
       "      <td>6</td>\n",
       "      <td>SN Thakur</td>\n",
       "      <td>RA Jadeja</td>\n",
       "      <td>SL Malinga</td>\n",
       "      <td>0</td>\n",
       "      <td>...</td>\n",
       "      <td>0</td>\n",
       "      <td>0</td>\n",
       "      <td>0</td>\n",
       "      <td>0</td>\n",
       "      <td>0</td>\n",
       "      <td>0</td>\n",
       "      <td>0</td>\n",
       "      <td>SN Thakur</td>\n",
       "      <td>lbw</td>\n",
       "      <td>NaN</td>\n",
       "    </tr>\n",
       "  </tbody>\n",
       "</table>\n",
       "<p>179078 rows × 21 columns</p>\n",
       "</div>"
      ],
      "text/plain": [
       "        match_id  inning         batting_team                 bowling_team  \\\n",
       "0              1       1  Sunrisers Hyderabad  Royal Challengers Bangalore   \n",
       "1              1       1  Sunrisers Hyderabad  Royal Challengers Bangalore   \n",
       "2              1       1  Sunrisers Hyderabad  Royal Challengers Bangalore   \n",
       "3              1       1  Sunrisers Hyderabad  Royal Challengers Bangalore   \n",
       "4              1       1  Sunrisers Hyderabad  Royal Challengers Bangalore   \n",
       "...          ...     ...                  ...                          ...   \n",
       "179073     11415       2  Chennai Super Kings               Mumbai Indians   \n",
       "179074     11415       2  Chennai Super Kings               Mumbai Indians   \n",
       "179075     11415       2  Chennai Super Kings               Mumbai Indians   \n",
       "179076     11415       2  Chennai Super Kings               Mumbai Indians   \n",
       "179077     11415       2  Chennai Super Kings               Mumbai Indians   \n",
       "\n",
       "        over  ball    batsman non_striker      bowler  is_super_over  ...  \\\n",
       "0          1     1  DA Warner    S Dhawan    TS Mills              0  ...   \n",
       "1          1     2  DA Warner    S Dhawan    TS Mills              0  ...   \n",
       "2          1     3  DA Warner    S Dhawan    TS Mills              0  ...   \n",
       "3          1     4  DA Warner    S Dhawan    TS Mills              0  ...   \n",
       "4          1     5  DA Warner    S Dhawan    TS Mills              0  ...   \n",
       "...      ...   ...        ...         ...         ...            ...  ...   \n",
       "179073    20     2  RA Jadeja   SR Watson  SL Malinga              0  ...   \n",
       "179074    20     3  SR Watson   RA Jadeja  SL Malinga              0  ...   \n",
       "179075    20     4  SR Watson   RA Jadeja  SL Malinga              0  ...   \n",
       "179076    20     5  SN Thakur   RA Jadeja  SL Malinga              0  ...   \n",
       "179077    20     6  SN Thakur   RA Jadeja  SL Malinga              0  ...   \n",
       "\n",
       "        bye_runs  legbye_runs  noball_runs  penalty_runs  batsman_runs  \\\n",
       "0              0            0            0             0             0   \n",
       "1              0            0            0             0             0   \n",
       "2              0            0            0             0             4   \n",
       "3              0            0            0             0             0   \n",
       "4              0            0            0             0             0   \n",
       "...          ...          ...          ...           ...           ...   \n",
       "179073         0            0            0             0             1   \n",
       "179074         0            0            0             0             2   \n",
       "179075         0            0            0             0             1   \n",
       "179076         0            0            0             0             2   \n",
       "179077         0            0            0             0             0   \n",
       "\n",
       "        extra_runs  total_runs  player_dismissed dismissal_kind    fielder  \n",
       "0                0           0               NaN            NaN        NaN  \n",
       "1                0           0               NaN            NaN        NaN  \n",
       "2                0           4               NaN            NaN        NaN  \n",
       "3                0           0               NaN            NaN        NaN  \n",
       "4                2           2               NaN            NaN        NaN  \n",
       "...            ...         ...               ...            ...        ...  \n",
       "179073           0           1               NaN            NaN        NaN  \n",
       "179074           0           2               NaN            NaN        NaN  \n",
       "179075           0           1         SR Watson        run out  KH Pandya  \n",
       "179076           0           2               NaN            NaN        NaN  \n",
       "179077           0           0         SN Thakur            lbw        NaN  \n",
       "\n",
       "[179078 rows x 21 columns]"
      ]
     },
     "execution_count": 27,
     "metadata": {},
     "output_type": "execute_result"
    }
   ],
   "source": [
    "df2"
   ]
  },
  {
   "cell_type": "code",
   "execution_count": 28,
   "metadata": {},
   "outputs": [],
   "source": [
    "# Let's make some predictive analysis on the second dataset as well!"
   ]
  },
  {
   "cell_type": "code",
   "execution_count": 29,
   "metadata": {},
   "outputs": [
    {
     "data": {
      "text/plain": [
       "(179078, 21)"
      ]
     },
     "execution_count": 29,
     "metadata": {},
     "output_type": "execute_result"
    }
   ],
   "source": [
    "df2.shape"
   ]
  },
  {
   "cell_type": "code",
   "execution_count": 30,
   "metadata": {},
   "outputs": [
    {
     "data": {
      "text/plain": [
       "match_id                 0\n",
       "inning                   0\n",
       "batting_team             0\n",
       "bowling_team             0\n",
       "over                     0\n",
       "ball                     0\n",
       "batsman                  0\n",
       "non_striker              0\n",
       "bowler                   0\n",
       "is_super_over            0\n",
       "wide_runs                0\n",
       "bye_runs                 0\n",
       "legbye_runs              0\n",
       "noball_runs              0\n",
       "penalty_runs             0\n",
       "batsman_runs             0\n",
       "extra_runs               0\n",
       "total_runs               0\n",
       "player_dismissed    170244\n",
       "dismissal_kind      170244\n",
       "fielder             172630\n",
       "dtype: int64"
      ]
     },
     "execution_count": 30,
     "metadata": {},
     "output_type": "execute_result"
    }
   ],
   "source": [
    "df2.isnull().sum()"
   ]
  },
  {
   "cell_type": "code",
   "execution_count": 31,
   "metadata": {},
   "outputs": [
    {
     "data": {
      "image/png": "[encoded data removed]",
      "text/plain": [
       "<Figure size 1080x576 with 16 Axes>"
      ]
     },
     "metadata": {
      "needs_background": "light"
     },
     "output_type": "display_data"
    }
   ],
   "source": [
    "# Here we just displayed the histogram of each feature and it's behaviour!\n",
    "df2.hist(figsize=(15,8))\n",
    "plt.show()"
   ]
  },
  {
   "cell_type": "code",
   "execution_count": 32,
   "metadata": {},
   "outputs": [],
   "source": [
    "# fillna() is used to replace the missin' Values!\n",
    "df2.player_dismissed=df2['player_dismissed'].fillna(0)\n",
    "df2.dismissal_kind =df2['dismissal_kind'].fillna(0)\n",
    "df2.fielder  =df2['fielder'].fillna(0)"
   ]
  },
  {
   "cell_type": "code",
   "execution_count": 33,
   "metadata": {},
   "outputs": [
    {
     "data": {
      "text/plain": [
       "match_id            0\n",
       "inning              0\n",
       "batting_team        0\n",
       "bowling_team        0\n",
       "over                0\n",
       "ball                0\n",
       "batsman             0\n",
       "non_striker         0\n",
       "bowler              0\n",
       "is_super_over       0\n",
       "wide_runs           0\n",
       "bye_runs            0\n",
       "legbye_runs         0\n",
       "noball_runs         0\n",
       "penalty_runs        0\n",
       "batsman_runs        0\n",
       "extra_runs          0\n",
       "total_runs          0\n",
       "player_dismissed    0\n",
       "dismissal_kind      0\n",
       "fielder             0\n",
       "dtype: int64"
      ]
     },
     "execution_count": 33,
     "metadata": {},
     "output_type": "execute_result"
    }
   ],
   "source": [
    "df2.isnull().sum()"
   ]
  },
  {
   "cell_type": "code",
   "execution_count": 34,
   "metadata": {},
   "outputs": [
    {
     "name": "stdout",
     "output_type": "stream",
     "text": [
      "total wickets taken : 8834\n"
     ]
    }
   ],
   "source": [
    "# Total Number of Wickets so far!\n",
    "wickets=df2[df2['player_dismissed']!=0]\n",
    "print(\"total wickets taken :\", wickets.shape[0])\n"
   ]
  },
  {
   "cell_type": "code",
   "execution_count": 35,
   "metadata": {},
   "outputs": [
    {
     "data": {
      "image/png": "[encoded data removed]",
      "text/plain": [
       "<Figure size 432x288 with 1 Axes>"
      ]
     },
     "metadata": {
      "needs_background": "light"
     },
     "output_type": "display_data"
    }
   ],
   "source": [
    "# Type of Dismissal!\n",
    "sns.barplot(y=wickets['dismissal_kind'].value_counts().index,x=wickets['dismissal_kind'].value_counts())\n",
    "plt.xlabel('No of Wickets ')\n",
    "plt.ylabel('dismissal Type')\n",
    "plt.title('types of dismissal')\n",
    "plt.show()"
   ]
  },
  {
   "cell_type": "code",
   "execution_count": 36,
   "metadata": {},
   "outputs": [
    {
     "data": {
      "text/plain": [
       "Mumbai Indians                 1138\n",
       "Royal Challengers Bangalore    1036\n",
       "Chennai Super Kings            1030\n",
       "Kolkata Knight Riders          1010\n",
       "Kings XI Punjab                 994\n",
       "Delhi Daredevils                912\n",
       "Rajasthan Royals                856\n",
       "Sunrisers Hyderabad             652\n",
       "Deccan Chargers                 446\n",
       "Pune Warriors                   238\n",
       "Gujarat Lions                   151\n",
       "Rising Pune Supergiant          113\n",
       "Delhi Capitals                  108\n",
       "Rising Pune Supergiants          76\n",
       "Kochi Tuskers Kerala             74\n",
       "Name: bowling_team, dtype: int64"
      ]
     },
     "execution_count": 36,
     "metadata": {},
     "output_type": "execute_result"
    }
   ],
   "source": [
    "wickets['bowling_team'].value_counts()"
   ]
  },
  {
   "cell_type": "code",
   "execution_count": 37,
   "metadata": {},
   "outputs": [
    {
     "data": {
      "image/png": "[encoded data removed]",
      "text/plain": [
       "<Figure size 432x288 with 1 Axes>"
      ]
     },
     "metadata": {
      "needs_background": "light"
     },
     "output_type": "display_data"
    }
   ],
   "source": [
    "# Total number of wickets took by each team!\n",
    "fig=(15,8)\n",
    "team_wickets=wickets['bowling_team'].value_counts()\n",
    "sns.barplot(y=team_wickets.index,x=team_wickets,palette='prism')\n",
    "plt.xlabel('No of Wickets')\n",
    "plt.ylabel('Teams')\n",
    "plt.title('Wickets by team')\n",
    "plt.show()\n"
   ]
  },
  {
   "cell_type": "code",
   "execution_count": 38,
   "metadata": {},
   "outputs": [
    {
     "data": {
      "image/png": "[encoded data removed]",
      "text/plain": [
       "<Figure size 432x288 with 1 Axes>"
      ]
     },
     "metadata": {
      "needs_background": "light"
     },
     "output_type": "display_data"
    }
   ],
   "source": [
    "# Number of wickets took by each bowler!\n",
    "bowler_wickets=wickets['bowler'].value_counts()\n",
    "top_bowlers=bowler_wickets[:10]\n",
    "sns.barplot(y=top_bowlers.index,x=top_bowlers,palette='Accent')\n",
    "plt.xlabel('No of Wickets')\n",
    "plt.ylabel('Bowler')\n",
    "plt.title('No of wickets taken by bowler')\n",
    "plt.show()"
   ]
  },
  {
   "cell_type": "code",
   "execution_count": 39,
   "metadata": {},
   "outputs": [
    {
     "data": {
      "image/png": "[encoded data removed]",
      "text/plain": [
       "<Figure size 432x288 with 1 Axes>"
      ]
     },
     "metadata": {
      "needs_background": "light"
     },
     "output_type": "display_data"
    }
   ],
   "source": [
    "# Most sixes hit by a team!\n",
    "six=df2[df2['batsman_runs']==6]\n",
    "team_sixes=six['batting_team'].value_counts()\n",
    "sns.barplot(y=team_sixes.index,x=team_sixes,palette='cubehelix')\n",
    "plt.xlabel('Sixes')\n",
    "plt.ylabel('Team')\n",
    "plt.title('Most sixes hit by a team')\n",
    "plt.show()\n"
   ]
  },
  {
   "cell_type": "code",
   "execution_count": 40,
   "metadata": {},
   "outputs": [
    {
     "data": {
      "image/png": "[encoded data removed]",
      "text/plain": [
       "<Figure size 432x288 with 1 Axes>"
      ]
     },
     "metadata": {
      "needs_background": "light"
     },
     "output_type": "display_data"
    }
   ],
   "source": [
    "# Most fours hit by a team!\n",
    "fours=df2[df2['batsman_runs']==4]\n",
    "team_fours=fours['batting_team'].value_counts()\n",
    "sns.barplot(y=team_fours.index,x=team_fours,palette='brg')\n",
    "plt.xlabel('Fours')\n",
    "plt.ylabel('Team')\n",
    "plt.title('Most Fours hit by a team')\n",
    "plt.show()\n"
   ]
  },
  {
   "cell_type": "code",
   "execution_count": 41,
   "metadata": {},
   "outputs": [
    {
     "data": {
      "image/png": "[encoded data removed]",
      "text/plain": [
       "<Figure size 432x288 with 1 Axes>"
      ]
     },
     "metadata": {
      "needs_background": "light"
     },
     "output_type": "display_data"
    }
   ],
   "source": [
    "# most 4's by a batsmen!\n",
    "batsman_fours=fours['batsman'].value_counts()[:10]\n",
    "sns.barplot(y=batsman_fours.index,x=batsman_fours,palette='hsv')\n",
    "plt.xlabel('Fours')\n",
    "plt.ylabel('Name of the Batsman')\n",
    "plt.title('Highest induvidual Fours by a batsmen')\n",
    "plt.show()"
   ]
  },
  {
   "cell_type": "code",
   "execution_count": 42,
   "metadata": {},
   "outputs": [
    {
     "data": {
      "image/png": "[encoded data removed]",
      "text/plain": [
       "<Figure size 432x288 with 1 Axes>"
      ]
     },
     "metadata": {
      "needs_background": "light"
     },
     "output_type": "display_data"
    }
   ],
   "source": [
    "# Most 6's by a batsmen!\n",
    "batsman_sixes=six['batsman'].value_counts()[:10]\n",
    "sns.barplot(y=batsman_sixes.index,x=batsman_sixes,palette='hsv')\n",
    "plt.xlabel('Sixes')\n",
    "plt.ylabel('Name of the Batsman')\n",
    "plt.title('Highest induvidual sixes by a batsmen')\n",
    "plt.show()"
   ]
  },
  {
   "cell_type": "code",
   "execution_count": 43,
   "metadata": {},
   "outputs": [
    {
     "data": {
      "text/html": [
       "<div>\n",
       "<style scoped>\n",
       "    .dataframe tbody tr th:only-of-type {\n",
       "        vertical-align: middle;\n",
       "    }\n",
       "\n",
       "    .dataframe tbody tr th {\n",
       "        vertical-align: top;\n",
       "    }\n",
       "\n",
       "    .dataframe thead th {\n",
       "        text-align: right;\n",
       "    }\n",
       "</style>\n",
       "<table border=\"1\" class=\"dataframe\">\n",
       "  <thead>\n",
       "    <tr style=\"text-align: right;\">\n",
       "      <th></th>\n",
       "      <th>batsman_runs</th>\n",
       "    </tr>\n",
       "    <tr>\n",
       "      <th>batsman</th>\n",
       "      <th></th>\n",
       "    </tr>\n",
       "  </thead>\n",
       "  <tbody>\n",
       "    <tr>\n",
       "      <td>V Kohli</td>\n",
       "      <td>5434</td>\n",
       "    </tr>\n",
       "    <tr>\n",
       "      <td>SK Raina</td>\n",
       "      <td>5415</td>\n",
       "    </tr>\n",
       "    <tr>\n",
       "      <td>RG Sharma</td>\n",
       "      <td>4914</td>\n",
       "    </tr>\n",
       "    <tr>\n",
       "      <td>DA Warner</td>\n",
       "      <td>4741</td>\n",
       "    </tr>\n",
       "    <tr>\n",
       "      <td>S Dhawan</td>\n",
       "      <td>4632</td>\n",
       "    </tr>\n",
       "    <tr>\n",
       "      <td>CH Gayle</td>\n",
       "      <td>4560</td>\n",
       "    </tr>\n",
       "    <tr>\n",
       "      <td>MS Dhoni</td>\n",
       "      <td>4477</td>\n",
       "    </tr>\n",
       "    <tr>\n",
       "      <td>RV Uthappa</td>\n",
       "      <td>4446</td>\n",
       "    </tr>\n",
       "    <tr>\n",
       "      <td>AB de Villiers</td>\n",
       "      <td>4428</td>\n",
       "    </tr>\n",
       "    <tr>\n",
       "      <td>G Gambhir</td>\n",
       "      <td>4223</td>\n",
       "    </tr>\n",
       "  </tbody>\n",
       "</table>\n",
       "</div>"
      ],
      "text/plain": [
       "                batsman_runs\n",
       "batsman                     \n",
       "V Kohli                 5434\n",
       "SK Raina                5415\n",
       "RG Sharma               4914\n",
       "DA Warner               4741\n",
       "S Dhawan                4632\n",
       "CH Gayle                4560\n",
       "MS Dhoni                4477\n",
       "RV Uthappa              4446\n",
       "AB de Villiers          4428\n",
       "G Gambhir               4223"
      ]
     },
     "execution_count": 43,
     "metadata": {},
     "output_type": "execute_result"
    }
   ],
   "source": [
    "# Top run Scorer of overall Seasons!\n",
    "batsman_runs=df2.groupby(['batsman']).agg({'batsman_runs':'sum'})\n",
    "batsman_runs.sort_values(by=['batsman_runs'],ascending=False)[:10]"
   ]
  },
  {
   "cell_type": "code",
   "execution_count": 44,
   "metadata": {},
   "outputs": [],
   "source": [
    "wicket_keeper_stumping=df2[df2['dismissal_kind']=='stumped']['fielder'].value_counts().reset_index()\n"
   ]
  },
  {
   "cell_type": "code",
   "execution_count": 45,
   "metadata": {},
   "outputs": [],
   "source": [
    "wicket_keeper_stumping.rename(columns={'index':'wicket_keeper','fielder':'stumping'},inplace=True)"
   ]
  },
  {
   "cell_type": "code",
   "execution_count": 46,
   "metadata": {},
   "outputs": [
    {
     "data": {
      "text/html": [
       "<div>\n",
       "<style scoped>\n",
       "    .dataframe tbody tr th:only-of-type {\n",
       "        vertical-align: middle;\n",
       "    }\n",
       "\n",
       "    .dataframe tbody tr th {\n",
       "        vertical-align: top;\n",
       "    }\n",
       "\n",
       "    .dataframe thead th {\n",
       "        text-align: right;\n",
       "    }\n",
       "</style>\n",
       "<table border=\"1\" class=\"dataframe\">\n",
       "  <thead>\n",
       "    <tr style=\"text-align: right;\">\n",
       "      <th></th>\n",
       "      <th>wicket_keeper</th>\n",
       "      <th>stumping</th>\n",
       "    </tr>\n",
       "  </thead>\n",
       "  <tbody>\n",
       "    <tr>\n",
       "      <td>0</td>\n",
       "      <td>MS Dhoni</td>\n",
       "      <td>38</td>\n",
       "    </tr>\n",
       "    <tr>\n",
       "      <td>1</td>\n",
       "      <td>RV Uthappa</td>\n",
       "      <td>32</td>\n",
       "    </tr>\n",
       "    <tr>\n",
       "      <td>2</td>\n",
       "      <td>KD Karthik</td>\n",
       "      <td>29</td>\n",
       "    </tr>\n",
       "    <tr>\n",
       "      <td>3</td>\n",
       "      <td>WP Saha</td>\n",
       "      <td>18</td>\n",
       "    </tr>\n",
       "    <tr>\n",
       "      <td>4</td>\n",
       "      <td>AC Gilchrist</td>\n",
       "      <td>16</td>\n",
       "    </tr>\n",
       "  </tbody>\n",
       "</table>\n",
       "</div>"
      ],
      "text/plain": [
       "  wicket_keeper  stumping\n",
       "0      MS Dhoni        38\n",
       "1    RV Uthappa        32\n",
       "2    KD Karthik        29\n",
       "3       WP Saha        18\n",
       "4  AC Gilchrist        16"
      ]
     },
     "execution_count": 46,
     "metadata": {},
     "output_type": "execute_result"
    }
   ],
   "source": [
    "wicket_keeper_stumping.head()"
   ]
  },
  {
   "cell_type": "code",
   "execution_count": 47,
   "metadata": {},
   "outputs": [],
   "source": [
    "century_data=df2.groupby(['match_id','batsman']).sum()['batsman_runs']"
   ]
  },
  {
   "cell_type": "code",
   "execution_count": 48,
   "metadata": {},
   "outputs": [],
   "source": [
    "century_data=century_data[century_data>=100].reset_index().groupby(['batsman']).count().sort_values(by='batsman_runs',ascending = False)"
   ]
  },
  {
   "cell_type": "code",
   "execution_count": 49,
   "metadata": {},
   "outputs": [
    {
     "data": {
      "text/html": [
       "<div>\n",
       "<style scoped>\n",
       "    .dataframe tbody tr th:only-of-type {\n",
       "        vertical-align: middle;\n",
       "    }\n",
       "\n",
       "    .dataframe tbody tr th {\n",
       "        vertical-align: top;\n",
       "    }\n",
       "\n",
       "    .dataframe thead th {\n",
       "        text-align: right;\n",
       "    }\n",
       "</style>\n",
       "<table border=\"1\" class=\"dataframe\">\n",
       "  <thead>\n",
       "    <tr style=\"text-align: right;\">\n",
       "      <th></th>\n",
       "      <th>No of centuries</th>\n",
       "    </tr>\n",
       "    <tr>\n",
       "      <th>batsman</th>\n",
       "      <th></th>\n",
       "    </tr>\n",
       "  </thead>\n",
       "  <tbody>\n",
       "    <tr>\n",
       "      <td>CH Gayle</td>\n",
       "      <td>7</td>\n",
       "    </tr>\n",
       "    <tr>\n",
       "      <td>V Kohli</td>\n",
       "      <td>5</td>\n",
       "    </tr>\n",
       "    <tr>\n",
       "      <td>DA Warner</td>\n",
       "      <td>4</td>\n",
       "    </tr>\n",
       "    <tr>\n",
       "      <td>SR Watson</td>\n",
       "      <td>4</td>\n",
       "    </tr>\n",
       "    <tr>\n",
       "      <td>AB de Villiers</td>\n",
       "      <td>3</td>\n",
       "    </tr>\n",
       "    <tr>\n",
       "      <td>HM Amla</td>\n",
       "      <td>2</td>\n",
       "    </tr>\n",
       "    <tr>\n",
       "      <td>AC Gilchrist</td>\n",
       "      <td>2</td>\n",
       "    </tr>\n",
       "    <tr>\n",
       "      <td>AM Rahane</td>\n",
       "      <td>2</td>\n",
       "    </tr>\n",
       "    <tr>\n",
       "      <td>V Sehwag</td>\n",
       "      <td>2</td>\n",
       "    </tr>\n",
       "    <tr>\n",
       "      <td>BB McCullum</td>\n",
       "      <td>2</td>\n",
       "    </tr>\n",
       "  </tbody>\n",
       "</table>\n",
       "</div>"
      ],
      "text/plain": [
       "                No of centuries\n",
       "batsman                        \n",
       "CH Gayle                      7\n",
       "V Kohli                       5\n",
       "DA Warner                     4\n",
       "SR Watson                     4\n",
       "AB de Villiers                3\n",
       "HM Amla                       2\n",
       "AC Gilchrist                  2\n",
       "AM Rahane                     2\n",
       "V Sehwag                      2\n",
       "BB McCullum                   2"
      ]
     },
     "execution_count": 49,
     "metadata": {},
     "output_type": "execute_result"
    }
   ],
   "source": [
    "# Most number of stumpings by a wicket-keeper!\n",
    "century_data.drop('match_id',axis=1).rename({'batsman_runs':'No of centuries'},axis=1)[:10]"
   ]
  },
  {
   "cell_type": "markdown",
   "metadata": {},
   "source": [
    "# CONCLUSION OF THE GIVEN DATASETS"
   ]
  },
  {
   "cell_type": "markdown",
   "metadata": {},
   "source": [
    "It is clear from our Analysis is that the company should choose respective players like Virat Kohli, Mahendra Sing Dhoni & Chris Gayle to endorse their products and when it comes to a team they need to choose Mumbai Indians,Royal Challengers and Chennai Super Kings."
   ]
  }
 ],
 "metadata": {
  "kernelspec": {
   "display_name": "Python 3",
   "language": "python",
   "name": "python3"
  },
  "language_info": {
   "codemirror_mode": {
    "name": "ipython",
    "version": 3
   },
   "file_extension": ".py",
   "mimetype": "text/x-python",
   "name": "python",
   "nbconvert_exporter": "python",
   "pygments_lexer": "ipython3",
   "version": "3.7.4"
  }
 },
 "nbformat": 4,
 "nbformat_minor": 2
}
